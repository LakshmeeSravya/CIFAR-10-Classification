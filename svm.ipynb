{
 "cells": [
  {
   "cell_type": "code",
   "execution_count": 26,
   "metadata": {},
   "outputs": [],
   "source": [
    "import os\n",
    "import cv2\n",
    "import pickle\n",
    "import numpy as np\n",
    "import pdb\n",
    "import requests\n",
    "from collections import defaultdict\n",
    "import random \n",
    "import time\n",
    "import matplotlib.pyplot as plt \n",
    "\n",
    "from sklearn.decomposition import PCA\n",
    "from sklearn.discriminant_analysis import LinearDiscriminantAnalysis\n",
    "from sklearn.svm import SVC\n",
    "from sklearn import preprocessing\n",
    "from sklearn.metrics import f1_score, accuracy_score\n",
    "from sklearn.model_selection import train_test_split\n",
    "from tqdm import *\n",
    "\n",
    "from functools import wraps\n",
    "from time import time as _timenow \n",
    "from sys import stderr\n"
   ]
  },
  {
   "cell_type": "markdown",
   "metadata": {},
   "source": [
    "## Load CIFAR-10 Data"
   ]
  },
  {
   "cell_type": "code",
   "execution_count": 27,
   "metadata": {},
   "outputs": [],
   "source": [
    "def load_cifar():\n",
    "    \n",
    "    trn_data, trn_labels, tst_data, tst_labels = [], [], [], []\n",
    "    def unpickle(file):\n",
    "        with open(file, 'rb') as fo:\n",
    "            data = pickle.load(fo, encoding='latin1')\n",
    "        return data\n",
    "    \n",
    "    for i in trange(1):\n",
    "        batchName = './data/data_batch_{0}'.format(i + 1)\n",
    "        unpickled = unpickle(batchName)\n",
    "        trn_data.extend(unpickled['data'])\n",
    "        trn_labels.extend(unpickled['labels'])\n",
    "        print(\"Data Read\")\n",
    "    unpickled = unpickle('./data/test_batch')\n",
    "    tst_data.extend(unpickled['data'])\n",
    "    tst_labels.extend(unpickled['labels'])\n",
    "    return trn_data, trn_labels, tst_data, tst_labels"
   ]
  },
  {
   "cell_type": "markdown",
   "metadata": {},
   "source": [
    "## Image preprocessing"
   ]
  },
  {
   "cell_type": "code",
   "execution_count": 28,
   "metadata": {},
   "outputs": [],
   "source": [
    "def image_prep(train, test):\n",
    "    ''' pre-processes the given image\n",
    "        performs mean normalization and other such operations'''\n",
    "    scaler = preprocessing.StandardScaler().fit(train)\n",
    "    train_data = scaler.transform(train)\n",
    "    test_data = scaler.transform(test)\n",
    "    \n",
    "    return train_data, test_data"
   ]
  },
  {
   "cell_type": "markdown",
   "metadata": {},
   "source": [
    "## Dimensionality reduction using PCA"
   ]
  },
  {
   "cell_type": "code",
   "execution_count": 29,
   "metadata": {},
   "outputs": [],
   "source": [
    "def reduce_dim(**kwargs):\n",
    "    ''' performs dimensionality reduction'''\n",
    "    if kwargs['method'] == 'lda':\n",
    "        clf = LinearDiscriminantAnalysis(n_components=100)\n",
    "        clf = clf.fit(kwargs['train'], kwargs['train_label'])\n",
    "        train_new = clf.transform(kwargs['train'])\n",
    "        test_new = clf.transform(kwargs['test'])\n",
    "        return train_new, test_new\n",
    "    if kwargs['method'] == 'pca':\n",
    "        pca = PCA(n_components=100,whiten=True)\n",
    "        pca = pca.fit(kwargs['train'])\n",
    "        train_new = pca.transform(kwargs['train'])\n",
    "        test_new = pca.transform(kwargs['test'])\n",
    "        return train_new, test_new"
   ]
  },
  {
   "cell_type": "markdown",
   "metadata": {},
   "source": [
    "## Classification using kernel SVM"
   ]
  },
  {
   "cell_type": "code",
   "execution_count": 30,
   "metadata": {},
   "outputs": [],
   "source": [
    "def classify(X, y, **kwargs):\n",
    "    ''' trains a classifier by taking input features\n",
    "        and their respective targets and returns the trained model'''\n",
    "    if kwargs['method'] == 'SVM':\n",
    "        pass"
   ]
  },
  {
   "cell_type": "markdown",
   "metadata": {},
   "source": [
    "## Evaluation "
   ]
  },
  {
   "cell_type": "code",
   "execution_count": 31,
   "metadata": {},
   "outputs": [],
   "source": [
    "def evaluate(target, predicted):\n",
    "    f1 = f1_score(target, predicted, average='micro')\n",
    "    acc = accuracy_score(target, predicted)\n",
    "    return f1, acc"
   ]
  },
  {
   "cell_type": "code",
   "execution_count": 32,
   "metadata": {},
   "outputs": [],
   "source": [
    "def test(train, test):\n",
    "    '''takes test data and trained classifier model,\n",
    "    performs classification and prints accuracy and f1-score'''\n",
    "    scaler = preprocessing.StandardScaler().fit(train)\n",
    "    train_data = scaler.transform(train)\n",
    "    test_data = scaler.transform(test)\n",
    "    \n",
    "    return train_data, test_data\n",
    "    "
   ]
  },
  {
   "cell_type": "code",
   "execution_count": 39,
   "metadata": {},
   "outputs": [],
   "source": [
    "def param1_search():\n",
    "    i=90\n",
    "    a=[]\n",
    "    ind=[]\n",
    "    trn_data, trn_labels, tst_data, tst_labels = load_cifar()\n",
    "    while(i<900):\n",
    "        print(i)\n",
    "        pca = PCA(n_components=i, whiten=True)\n",
    "        trn_data= np.asarray(trn_data)\n",
    "        tst_data= np.asarray(tst_data)\n",
    "        pca = pca.fit(trn_data)\n",
    "        x_train_pca = pca.transform(trn_data)\n",
    "        x_test_pca = pca.transform(tst_data)\n",
    "        \n",
    "        x_train_pca, x_val , y_train, y_val = train_test_split(x_train_pca, trn_labels,test_size = 0.20)\n",
    "        svc = SVC(gamma='auto',decision_function_shape='ovr',kernel='rbf')\n",
    "        svc.fit(x_train_pca,y_train)\n",
    "        y_pred_svm = svc.predict(x_val)\n",
    "        \n",
    "        f_score, accuracy = evaluate(y_val, y_pred_svm)\n",
    "        print('Val - F1 score: {}\\n Accuracy: {}'.format(f_score, accuracy))\n",
    "        a.append(i)\n",
    "        ind.append(accuracy)\n",
    "        i=i+100\n",
    "    plt.plot(a,ind)\n",
    "    plt.xlabel('No. of PCA Components') \n",
    "    plt.ylabel('Accuracy') \n",
    "    plt.show() "
   ]
  },
  {
   "cell_type": "code",
   "execution_count": 40,
   "metadata": {},
   "outputs": [],
   "source": [
    "def param2_search():\n",
    "    a=[]\n",
    "    ind=[]\n",
    "    i=0\n",
    "    dic=['poly','sigmoid', 'linear','rbf']\n",
    "    trn_data, trn_labels, tst_data, tst_labels = load_cifar()\n",
    "    trn_data, tst_data = image_prep(trn_data, tst_data)\n",
    "    trn_data= np.asarray(trn_data)\n",
    "    tst_data= np.asarray(tst_data)\n",
    "    pca = PCA(n_components=100, whiten=True)\n",
    "    pca = pca.fit(trn_data)\n",
    "    x1_train_pca = pca.transform(trn_data)\n",
    "    x1_test_pca = pca.transform(tst_data)\n",
    "         \n",
    "    while(i<4):\n",
    "        x_train_pca, x_val , y_train, y_test = train_test_split(x1_train_pca, trn_labels,test_size = 0.20)\n",
    "        print(dic[i])\n",
    "        svc = SVC(gamma='auto',decision_function_shape='ovr',kernel=dic[i])\n",
    "        svc.fit(x_train_pca,y_train)\n",
    "        y_pred_svm = svc.predict(x_val)\n",
    "        f_score, accuracy = evaluate(y_pred_svm , y_test)\n",
    "        print('Val - F1 score: {}\\n Accuracy: {}'.format(f_score, accuracy))\n",
    "        a.append(i)\n",
    "        ind.append(accuracy)\n",
    "        i=i+1\n",
    "    \n",
    "    plt.plot(a,ind)\n",
    "    plt.xlabel('Kernel used')\n",
    "    plt.ylabel('Accuracy') \n",
    "    plt.show() \n",
    "    print(dic)"
   ]
  },
  {
   "cell_type": "code",
   "execution_count": 41,
   "metadata": {},
   "outputs": [],
   "source": [
    "def param3_search():\n",
    "    ind=[]\n",
    "    i=0\n",
    "    dic=[10000,20000,30000,40000]\n",
    "    trn_data, trn_labels, tst_data, tst_labels = load_cifar()\n",
    "    trn_data, tst_data = image_prep(trn_data, tst_data)\n",
    "    trn_data= np.asarray(trn_data)\n",
    "    tst_data= np.asarray(tst_data)\n",
    "    pca = PCA(n_components=100, whiten=True)\n",
    "    pca = pca.fit(trn_data)\n",
    "    x1_train_pca = pca.transform(trn_data)\n",
    "    x1_test_pca = pca.transform(tst_data)\n",
    "         \n",
    "    while(i<4):\n",
    "        x_train_pca, x_val , y_train, y_test = train_test_split(x1_train_pca, trn_labels,test_size = 0.20)\n",
    "        print(dic[i])\n",
    "        svc = SVC(gamma='auto',decision_function_shape='ovr',kernel='rbf',max_iter=dic[i])\n",
    "        svc.fit(x_train_pca,y_train)\n",
    "        y_pred_svm = svc.predict(x_val)\n",
    "        f_score, accuracy = evaluate(y_pred_svm , y_test)\n",
    "        print('Val - F1 score: {}\\n Accuracy: {}'.format(f_score, accuracy))\n",
    "        ind.append(accuracy)\n",
    "        i=i+1\n",
    "    \n",
    "    plt.plot(dic,ind)\n",
    "    plt.xlabel('Max iterations')\n",
    "    plt.ylabel('Accuracy') \n",
    "    plt.show() \n",
    "    print(dic)"
   ]
  },
  {
   "cell_type": "code",
   "execution_count": 46,
   "metadata": {},
   "outputs": [],
   "source": [
    "def lda_method():    \n",
    "    trn_data, trn_labels, tst_data, tst_labels = load_cifar()\n",
    "    trn_data, tst_data = image_prep(trn_data, tst_data)\n",
    "    trn_data= np.asarray(trn_data)\n",
    "    tst_data= np.asarray(tst_data)\n",
    "    clf = LinearDiscriminantAnalysis(n_components=100)\n",
    "    clf = clf.fit(trn_data, trn_labels)\n",
    "    x_train_lda = clf.transform(trn_data)\n",
    "    x_test_lda = clf.transform(tst_data)\n",
    "    svc = SVC(gamma='auto',decision_function_shape='ovo',kernel='rbf',max_iter=20000)\n",
    "    svc.fit(x_train_lda,trn_labels)\n",
    "    y_pred_svm = svc.predict(x_test_lda)\n",
    "    f_score, accuracy = evaluate(y_pred_svm , tst_labels)\n",
    "    print('Val - F1 score: {}\\n Accuracy: {}'.format(f_score, accuracy))"
   ]
  },
  {
   "cell_type": "code",
   "execution_count": 47,
   "metadata": {},
   "outputs": [],
   "source": [
    "def main():\n",
    "    print(\"Search for Parameter 1-PCA\")\n",
    "    param1_search();\n",
    "    print(\"Search for Parameter 2-Kernel\")\n",
    "    param2_search();\n",
    "    print(\"Search for Parameter 3-Max Iterations\")\n",
    "    param3_search();\n",
    "    print(\"Accuracy for LDA method\")\n",
    "    lda_method();\n",
    "    trn_data, trn_labels, tst_data, tst_labels = load_cifar()\n",
    "    trn_data, tst_data = image_prep(trn_data, tst_data)\n",
    "    trn_data= np.asarray(trn_data)\n",
    "    tst_data= np.asarray(tst_data)\n",
    "    pca = PCA(n_components=90, whiten=True)\n",
    "    pca = pca.fit(trn_data)\n",
    "    x_train_pca = pca.transform(trn_data)\n",
    "    x_test_pca = pca.transform(tst_data)  \n",
    "    svc = SVC(gamma='auto',decision_function_shape='ovo',kernel='rbf',max_iter=20000)\n",
    "    svc.fit(x_train_pca,trn_labels)\n",
    "    y_pred_svm = svc.predict(x_test_pca)\n",
    "    f_score, accuracy = evaluate(y_pred_svm , tst_labels)\n",
    "    print('Val - F1 score: {}\\n Accuracy: {}'.format(f_score, accuracy))"
   ]
  },
  {
   "cell_type": "code",
   "execution_count": 48,
   "metadata": {},
   "outputs": [
    {
     "name": "stderr",
     "output_type": "stream",
     "text": [
      "100%|██████████| 1/1 [00:00<00:00,  9.64it/s]"
     ]
    },
    {
     "name": "stdout",
     "output_type": "stream",
     "text": [
      "Search for Parameter 1-PCA\n",
      "Search for Parameter 2-Kernel\n",
      "Search for Parameter 3-Max Iterations\n",
      "Accuracy for LDA method\n",
      "Data Read\n"
     ]
    },
    {
     "name": "stderr",
     "output_type": "stream",
     "text": [
      "\n",
      "  0%|          | 0/1 [00:00<?, ?it/s]"
     ]
    },
    {
     "name": "stdout",
     "output_type": "stream",
     "text": [
      "Val - F1 score: 0.2565\n",
      " Accuracy: 0.2565\n"
     ]
    },
    {
     "name": "stderr",
     "output_type": "stream",
     "text": [
      "100%|██████████| 1/1 [00:00<00:00,  8.98it/s]\n"
     ]
    },
    {
     "name": "stdout",
     "output_type": "stream",
     "text": [
      "Data Read\n",
      "Val - F1 score: 0.4762\n",
      " Accuracy: 0.4762\n"
     ]
    }
   ],
   "source": [
    "if __name__ == '__main__':\n",
    "    main()"
   ]
  },
  {
   "cell_type": "code",
   "execution_count": null,
   "metadata": {},
   "outputs": [],
   "source": []
  }
 ],
 "metadata": {
  "kernelspec": {
   "display_name": "Python 3",
   "language": "python",
   "name": "python3"
  },
  "language_info": {
   "codemirror_mode": {
    "name": "ipython",
    "version": 3
   },
   "file_extension": ".py",
   "mimetype": "text/x-python",
   "name": "python",
   "nbconvert_exporter": "python",
   "pygments_lexer": "ipython3",
   "version": "3.5.2"
  }
 },
 "nbformat": 4,
 "nbformat_minor": 2
}
