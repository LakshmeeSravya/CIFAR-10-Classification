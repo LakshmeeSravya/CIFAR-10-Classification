{
 "cells": [
  {
   "cell_type": "code",
   "execution_count": 1,
   "metadata": {},
   "outputs": [],
   "source": [
    "import os\n",
    "import cv2\n",
    "import pickle\n",
    "import numpy as np\n",
    "import pdb\n",
    "import requests\n",
    "from collections import defaultdict\n",
    "import random \n",
    "import time\n",
    "\n",
    "from sklearn import tree\n",
    "from sklearn import preprocessing\n",
    "from sklearn.decomposition import PCA\n",
    "from sklearn.svm import SVC\n",
    "from sklearn.metrics import f1_score, accuracy_score\n",
    "from sklearn.model_selection import train_test_split\n",
    "from sklearn.svm import LinearSVC\n",
    "from sklearn.neural_network import MLPClassifier\n",
    "from sklearn.discriminant_analysis import LinearDiscriminantAnalysis\n",
    "from tqdm import *\n",
    "\n",
    "import matplotlib.pyplot as plt\n",
    "from functools import wraps\n",
    "from time import time as _timenow \n",
    "from sys import stderr\n"
   ]
  },
  {
   "cell_type": "markdown",
   "metadata": {},
   "source": [
    "## Load CIFAR-10 Data"
   ]
  },
  {
   "cell_type": "code",
   "execution_count": 2,
   "metadata": {},
   "outputs": [],
   "source": [
    "def load_cifar():\n",
    "    \n",
    "    trn_data, trn_labels, tst_data, tst_labels = [], [], [], []\n",
    "    def unpickle(file):\n",
    "        with open(file, 'rb') as fo:\n",
    "            data = pickle.load(fo, encoding ='latin1')\n",
    "        return data\n",
    "    \n",
    "    for i in trange(1):\n",
    "        batchName = './data/data_batch_{0}'.format(i + 1)\n",
    "        unpickled = unpickle(batchName)\n",
    "        trn_data.extend(unpickled['data'])\n",
    "        trn_labels.extend(unpickled['labels'])\n",
    "    unpickled = unpickle('./data/test_batch')\n",
    "    tst_data.extend(unpickled['data'])\n",
    "    tst_labels.extend(unpickled['labels'])\n",
    "    return trn_data, trn_labels, tst_data, tst_labels\n"
   ]
  },
  {
   "cell_type": "markdown",
   "metadata": {},
   "source": [
    "## Image preprocessing"
   ]
  },
  {
   "cell_type": "code",
   "execution_count": 3,
   "metadata": {},
   "outputs": [],
   "source": [
    "def image_prep(train, test):\n",
    "    ''' pre-processes the given image\n",
    "        performs mean normalization and other such operations'''\n",
    "    scaler = preprocessing.StandardScaler().fit(train)\n",
    "    test_data = scaler.transform(test)\n",
    "    train_data = scaler.transform(train)\n",
    "    return train_data, test_data"
   ]
  },
  {
   "cell_type": "markdown",
   "metadata": {},
   "source": [
    "## Dimensionality reduction using PCA"
   ]
  },
  {
   "cell_type": "code",
   "execution_count": 4,
   "metadata": {},
   "outputs": [],
   "source": [
    "def reduce_dim(**kwargs):\n",
    "    ''' performs dimensionality reduction'''\n",
    "    if kwargs['method'] == 'pca':\n",
    "        pca = PCA(n_components = kwargs['numbercomponents'])\n",
    "        pca = pca.fit(kwargs['train'])\n",
    "        train_new = pca.transform(kwargs['train'])\n",
    "        test_new = pca.transform(kwargs['test'])\n",
    "        return train_new, test_new\n",
    "    elif kwargs['method'] == 'lda':\n",
    "        c = LinearDiscriminantAnalysis(numbercomponents = 600)\n",
    "        c = c.fit(kwargs['train'], kwargs['train_label'])\n",
    "        train_new = c.transform(kwargs['train'])\n",
    "        test_new = c.transform(kwargs['test'])\n",
    "        return train_new, test_new\n",
    "        "
   ]
  },
  {
   "cell_type": "markdown",
   "metadata": {},
   "source": [
    "## Classification using kernel SVM"
   ]
  },
  {
   "cell_type": "code",
   "execution_count": 5,
   "metadata": {},
   "outputs": [],
   "source": [
    "def classify(X, Y, **kwargs):\n",
    "    ''' trains a classifier by taking input features\n",
    "        and their respective targets and returns the trained model'''\n",
    "    if kwargs['method'] == 'CART':\n",
    "        c = tree.DecisionTreeClassifier()\n",
    "        c = c.fit(X, Y)\n",
    "        return c"
   ]
  },
  {
   "cell_type": "code",
   "execution_count": 6,
   "metadata": {},
   "outputs": [],
   "source": [
    "def classify_mlp(X, Y, hidden_layer1, hidden_layer2, hidden_layer3, **kwargs):\n",
    "    ''' trains a classifier by taking input features\n",
    "        and their respective targets and returns the trained model'''\n",
    "    c = MLPClassifier(hidden_layer_sizes = (hidden_layer1, hidden_layer2, hidden_layer3), max_iter=200)\n",
    "    c.fit(X, Y)\n",
    "    return c\n",
    "        \n"
   ]
  },
  {
   "cell_type": "markdown",
   "metadata": {},
   "source": [
    "## Evaluation "
   ]
  },
  {
   "cell_type": "code",
   "execution_count": 7,
   "metadata": {},
   "outputs": [],
   "source": [
    "def evaluate(target, predicted):\n",
    "    f1 = f1_score(target, predicted, average='micro')\n",
    "    acc = accuracy_score(target, predicted)\n",
    "    return f1, acc"
   ]
  },
  {
   "cell_type": "code",
   "execution_count": 8,
   "metadata": {},
   "outputs": [],
   "source": [
    "def test(**kwargs):\n",
    "    '''takes test data and trained classifier model,\n",
    "    performs classification and prints accuracy and f1-score'''\n",
    "    if kwargs['method'] == 'CART':\n",
    "        output = kwargs['model'].predict(kwargs['test'])\n",
    "    if kwargs['method'] == 'SVM':\n",
    "        output = kwargs['model'].predict(kwargs['test'])\n",
    "    return output"
   ]
  },
  {
   "cell_type": "code",
   "execution_count": 9,
   "metadata": {},
   "outputs": [],
   "source": [
    "def find_pca_components():\n",
    "    trn_data, trn_labels, tst_data, tst_labels = load_cifar()\n",
    "    \n",
    "    X_train, X_test, Y_train, Y_test = train_test_split(trn_data, trn_labels,test_size = 0.20) \n",
    "    acc = []\n",
    "    xaxis = []\n",
    "    i = 50\n",
    "    while i <= 150:\n",
    "        trn_data, tst_data = image_prep(X_train, X_test)\n",
    "        trn_data, tst_data = reduce_dim(train = trn_data, test = tst_data, method ='pca', numbercomponents = i)\n",
    "        model = classify(trn_data, Y_train, method ='CART')\n",
    "        output = test(test = tst_data, model = model, method ='CART')\n",
    "        f_score, accuracy = evaluate(Y_test, output)\n",
    "        print('Val - F1 score: {}\\n Accuracy: {}'.format(f_score, accuracy))\n",
    "        acc.append(accuracy)\n",
    "        xaxis.append(i)\n",
    "        i += 10\n",
    "        \n",
    "    plt.plot(xaxis, acc)\n",
    "    plt.xlabel('No. of components for PCA')\n",
    "    plt.ylabel('Accuracy')\n",
    "    plt.show()\n",
    "    return acc, xaxis\n",
    "    \n",
    "    ''' perform dimesioality reduction/feature extraction and classify the features into one of 10 classses\n",
    "        print accuracy and f1-score.\n",
    "        '''\n"
   ]
  },
  {
   "cell_type": "code",
   "execution_count": 10,
   "metadata": {},
   "outputs": [],
   "source": [
    "def find_min_samples_split():\n",
    "    i=2\n",
    "    acc=[]\n",
    "    x_axis=[]\n",
    "    trn_data, trn_labels, tst_data, tst_labels = load_cifar()\n",
    "    X_train, X_test, Y_train, Y_test = train_test_split(trn_data, trn_labels, test_size = 0.20) \n",
    "    while i <= 10:\n",
    "        trn_data, tst_data = image_prep(X_train, X_test)\n",
    "        trn_data, tst_data = reduce_dim(train = trn_data, test = tst_data, train_label = Y_train,method ='pca', numbercomponents = 100)\n",
    "        model = classify(trn_data, Y_train, num_trees = 400, min_samples_split = i, method ='CART')\n",
    "        output = test(test = tst_data, model = model, method ='CART')\n",
    "        f_score, accuracy = evaluate(Y_test, output)\n",
    "        print('Val - F1 score: {}\\n Accuracy: {}'.format(f_score, accuracy))\n",
    "        acc.append(accuracy)\n",
    "        x_axis.append(i)\n",
    "        i += 1\n",
    "        \n",
    "    plt.plot(x_axis, acc)\n",
    "    plt.xlabel('No. of nodes in the decision tree')\n",
    "    plt.ylabel('Accuracy')\n",
    "    plt.show()\n",
    "    return acc, x_axis"
   ]
  },
  {
   "cell_type": "code",
   "execution_count": 11,
   "metadata": {},
   "outputs": [],
   "source": [
    "def find_n_estimators(): \n",
    "    number_of_trees = []\n",
    "    acc = []\n",
    "    i = 50\n",
    "    trn_data, trn_labels, tst_data, tst_labels = load_cifar()\n",
    "    X_train, X_test, Y_train, Y_test = train_test_split(trn_data, trn_labels,test_size = 0.20) \n",
    "    while(i <= 400):\n",
    "        trn_data, tst_data = image_prep(X_train, X_test)\n",
    "        model = classify(trn_data, Y_train, num_trees = i, min_samples_split = 8, method = 'CART')\n",
    "        output = test(test = tst_data, model= model, method = 'CART')\n",
    "        f_score, accuracy = evaluate(Y_test, output)\n",
    "        print('Val - F1 score: {}\\n Accuracy: {}'.format(f_score, accuracy))\n",
    "        acc.append(accuracy)\n",
    "        number_of_trees.append(i)\n",
    "        i += 50\n",
    "        \n",
    "    plt.plot(number_of_trees, acc)\n",
    "    plt.xlabel('No. of trees')\n",
    "    plt.ylabel('Accuracy')\n",
    "    plt.show()\n",
    "    return acc, number_of_trees"
   ]
  },
  {
   "cell_type": "code",
   "execution_count": 12,
   "metadata": {},
   "outputs": [],
   "source": [
    "# PCA reduction\n",
    "def final_pca():\n",
    "    trn_data, trn_labels, tst_data, tst_labels = load_cifar()\n",
    "    X_train, X_test, Y_train, Y_test = train_test_split(trn_data, trn_labels, test_size = 0.20)\n",
    "    trn_data, tst_data = image_prep(X_train, tst_data)\n",
    "    trn_data, tst_data = reduce_dim(train = trn_data, test = tst_data, train_label = Y_train, method = 'pca', numbercomponents = 100)\n",
    "    model = classify(trn_data, Y_train, num_trees = 400, min_samples_split = 8,method = 'CART')\n",
    "    output = test(test = tst_data, model = model, method = 'CART')\n",
    "    f_score, accuracy = evaluate(tst_labels, output)\n",
    "    print('Val - F1 score: {}\\n Accuracy: {}'.format(f_score, accuracy))\n",
    "    "
   ]
  },
  {
   "cell_type": "code",
   "execution_count": 13,
   "metadata": {},
   "outputs": [],
   "source": [
    "def find_lda_components():\n",
    "    trn_data, trn_labels, tst_data, tst_labels = load_cifar()\n",
    "    \n",
    "    X_train, X_test, Y_train, Y_test = train_test_split(trn_data, trn_labels,test_size = 0.20) \n",
    "    acc = []\n",
    "    xaxis = []\n",
    "    i = 50\n",
    "    while i <= 150:\n",
    "        trn_data, tst_data = image_prep(X_train, X_test)\n",
    "        trn_data, tst_data = reduce_dim(train = trn_data, test = tst_data, method ='lda', numbercomponents = i)\n",
    "        model = classify(trn_data, Y_train, method ='CART')\n",
    "        output = test(test = tst_data, model = model, method ='CART')\n",
    "        f_score, accuracy = evaluate(Y_test, output)\n",
    "        print('Val - F1 score: {}\\n Accuracy: {}'.format(f_score, accuracy))\n",
    "        acc.append(accuracy)\n",
    "        xaxis.append(i)\n",
    "        i += 10\n",
    "        \n",
    "    plt.plot(xaxis, acc)\n",
    "    plt.xlabel('No. of components for PCA')\n",
    "    plt.ylabel('Accuracy')\n",
    "    plt.show()\n",
    "    return acc, xaxis\n",
    "    \n",
    "    ''' perform dimesioality reduction/feature extraction and classify the features into one of 10 classses\n",
    "        print accuracy and f1-score.\n",
    "        '''\n"
   ]
  },
  {
   "cell_type": "code",
   "execution_count": 14,
   "metadata": {},
   "outputs": [],
   "source": [
    "#  data reduction with LDA\n",
    "def final_lda():\n",
    "    trn_data, trn_labels, tst_data, tst_labels = load_cifar()\n",
    "    X_train, X_test, Y_train, Y_test = train_test_split(trn_data, trn_labels, test_size = 0.20)\n",
    "    trn_data, tst_data = image_prep(X_train, tst_data)\n",
    "    trn_data, tst_data = reduce_dim(train = trn_data, test = tst_data, train_label = Y_train, method = 'lda', numbercomponents = 700)\n",
    "    model = classify(trn_data, Y_train, num_trees = 300, min_samples_split = 5, method ='CART')\n",
    "    output = test(test = tst_data, model = model, method = 'CART')\n",
    "    f_score, accuracy = evaluate(tst_labels, output)\n",
    "    print('Val - F1 score: {}\\n Accuracy: {}'.format(f_score, accuracy))\n"
   ]
  },
  {
   "cell_type": "code",
   "execution_count": 15,
   "metadata": {},
   "outputs": [],
   "source": [
    "def raw():\n",
    "    trn_data, trn_labels, tst_data, tst_labels = load_cifar()\n",
    "    X_train, X_test, Y_train, Y_test = train_test_split(trn_data, trn_labels, test_size = 0.20)\n",
    "    trn_data, tst_data = image_prep(X_train, tst_data)\n",
    "    model = classify(trn_data, Y_train, num_trees=300, min_samples_split=5, method='CART')\n",
    "    output = test(test = tst_data, model= model, method='CART')\n",
    "    f_score, accuracy = evaluate(tst_labels, output)\n",
    "    print('Val - F1 score: {}\\n Accuracy: {}'.format(f_score, accuracy))"
   ]
  },
  {
   "cell_type": "code",
   "execution_count": 16,
   "metadata": {},
   "outputs": [
    {
     "name": "stderr",
     "output_type": "stream",
     "text": [
      "100%|██████████| 1/1 [00:00<00:00,  4.97it/s]\n"
     ]
    },
    {
     "name": "stdout",
     "output_type": "stream",
     "text": [
      "Val - F1 score: 0.2415\n",
      " Accuracy: 0.2415\n",
      "Val - F1 score: 0.232\n",
      " Accuracy: 0.232\n",
      "Val - F1 score: 0.216\n",
      " Accuracy: 0.216\n",
      "Val - F1 score: 0.239\n",
      " Accuracy: 0.239\n",
      "Val - F1 score: 0.2245\n",
      " Accuracy: 0.2245\n",
      "Val - F1 score: 0.2405\n",
      " Accuracy: 0.2405\n",
      "Val - F1 score: 0.2315\n",
      " Accuracy: 0.2315\n",
      "Val - F1 score: 0.2265\n",
      " Accuracy: 0.2265\n",
      "Val - F1 score: 0.2145\n",
      " Accuracy: 0.2145\n",
      "Val - F1 score: 0.2225\n",
      " Accuracy: 0.2225\n",
      "Val - F1 score: 0.22400000000000003\n",
      " Accuracy: 0.224\n"
     ]
    },
    {
     "data": {
      "image/png": "[encoded data removed]",
      "text/plain": [
       "<Figure size 432x288 with 1 Axes>"
      ]
     },
     "metadata": {
      "needs_background": "light"
     },
     "output_type": "display_data"
    },
    {
     "name": "stderr",
     "output_type": "stream",
     "text": [
      "100%|██████████| 1/1 [00:00<00:00, 12.06it/s]\n"
     ]
    },
    {
     "name": "stdout",
     "output_type": "stream",
     "text": [
      "Val - F1 score: 0.236\n",
      " Accuracy: 0.236\n",
      "Val - F1 score: 0.226\n",
      " Accuracy: 0.226\n",
      "Val - F1 score: 0.24\n",
      " Accuracy: 0.24\n",
      "Val - F1 score: 0.2365\n",
      " Accuracy: 0.2365\n",
      "Val - F1 score: 0.2245\n",
      " Accuracy: 0.2245\n",
      "Val - F1 score: 0.233\n",
      " Accuracy: 0.233\n",
      "Val - F1 score: 0.247\n",
      " Accuracy: 0.247\n",
      "Val - F1 score: 0.2355\n",
      " Accuracy: 0.2355\n",
      "Val - F1 score: 0.2315\n",
      " Accuracy: 0.2315\n"
     ]
    },
    {
     "data": {
      "image/png": "[encoded data removed]",
      "text/plain": [
       "<Figure size 432x288 with 1 Axes>"
      ]
     },
     "metadata": {
      "needs_background": "light"
     },
     "output_type": "display_data"
    },
    {
     "name": "stderr",
     "output_type": "stream",
     "text": [
      "100%|██████████| 1/1 [00:00<00:00, 14.35it/s]\n"
     ]
    },
    {
     "name": "stdout",
     "output_type": "stream",
     "text": [
      "Val - F1 score: 0.227\n",
      " Accuracy: 0.227\n",
      "Val - F1 score: 0.2215\n",
      " Accuracy: 0.2215\n",
      "Val - F1 score: 0.2175\n",
      " Accuracy: 0.2175\n",
      "Val - F1 score: 0.22400000000000003\n",
      " Accuracy: 0.224\n",
      "Val - F1 score: 0.2225\n",
      " Accuracy: 0.2225\n",
      "Val - F1 score: 0.2285\n",
      " Accuracy: 0.2285\n",
      "Val - F1 score: 0.2325\n",
      " Accuracy: 0.2325\n",
      "Val - F1 score: 0.229\n",
      " Accuracy: 0.229\n"
     ]
    },
    {
     "data": {
      "image/png": "[encoded data removed]",
      "text/plain": [
       "<Figure size 432x288 with 1 Axes>"
      ]
     },
     "metadata": {
      "needs_background": "light"
     },
     "output_type": "display_data"
    },
    {
     "name": "stderr",
     "output_type": "stream",
     "text": [
      "100%|██████████| 1/1 [00:00<00:00,  9.96it/s]\n",
      "100%|██████████| 1/1 [00:00<00:00, 14.08it/s]"
     ]
    },
    {
     "name": "stdout",
     "output_type": "stream",
     "text": [
      "Val - F1 score: 0.2268\n",
      " Accuracy: 0.2268\n"
     ]
    },
    {
     "name": "stderr",
     "output_type": "stream",
     "text": [
      "\n"
     ]
    },
    {
     "ename": "NameError",
     "evalue": "name 'LinearDiscriminantAnalysis' is not defined",
     "output_type": "error",
     "traceback": [
      "\u001b[0;31m---------------------------------------------------------------------------\u001b[0m",
      "\u001b[0;31mNameError\u001b[0m                                 Traceback (most recent call last)",
      "\u001b[0;32m<ipython-input-16-b6243f437c3c>\u001b[0m in \u001b[0;36m<module>\u001b[0;34m\u001b[0m\n\u001b[1;32m      5\u001b[0m     \u001b[0mfind_n_estimators\u001b[0m\u001b[0;34m(\u001b[0m\u001b[0;34m)\u001b[0m\u001b[0;34m\u001b[0m\u001b[0m\n\u001b[1;32m      6\u001b[0m     \u001b[0mfinal_pca\u001b[0m\u001b[0;34m(\u001b[0m\u001b[0;34m)\u001b[0m\u001b[0;34m\u001b[0m\u001b[0m\n\u001b[0;32m----> 7\u001b[0;31m     \u001b[0mfinal_lda\u001b[0m\u001b[0;34m(\u001b[0m\u001b[0;34m)\u001b[0m\u001b[0;34m\u001b[0m\u001b[0m\n\u001b[0m\u001b[1;32m      8\u001b[0m \u001b[0;34m\u001b[0m\u001b[0m\n",
      "\u001b[0;32m<ipython-input-14-faac941693c0>\u001b[0m in \u001b[0;36mfinal_lda\u001b[0;34m()\u001b[0m\n\u001b[1;32m      4\u001b[0m     \u001b[0mX_train\u001b[0m\u001b[0;34m,\u001b[0m \u001b[0mX_test\u001b[0m\u001b[0;34m,\u001b[0m \u001b[0mY_train\u001b[0m\u001b[0;34m,\u001b[0m \u001b[0mY_test\u001b[0m \u001b[0;34m=\u001b[0m \u001b[0mtrain_test_split\u001b[0m\u001b[0;34m(\u001b[0m\u001b[0mtrn_data\u001b[0m\u001b[0;34m,\u001b[0m \u001b[0mtrn_labels\u001b[0m\u001b[0;34m,\u001b[0m \u001b[0mtest_size\u001b[0m \u001b[0;34m=\u001b[0m \u001b[0;36m0.20\u001b[0m\u001b[0;34m)\u001b[0m\u001b[0;34m\u001b[0m\u001b[0m\n\u001b[1;32m      5\u001b[0m     \u001b[0mtrn_data\u001b[0m\u001b[0;34m,\u001b[0m \u001b[0mtst_data\u001b[0m \u001b[0;34m=\u001b[0m \u001b[0mimage_prep\u001b[0m\u001b[0;34m(\u001b[0m\u001b[0mX_train\u001b[0m\u001b[0;34m,\u001b[0m \u001b[0mtst_data\u001b[0m\u001b[0;34m)\u001b[0m\u001b[0;34m\u001b[0m\u001b[0m\n\u001b[0;32m----> 6\u001b[0;31m     \u001b[0mtrn_data\u001b[0m\u001b[0;34m,\u001b[0m \u001b[0mtst_data\u001b[0m \u001b[0;34m=\u001b[0m \u001b[0mreduce_dim\u001b[0m\u001b[0;34m(\u001b[0m\u001b[0mtrain\u001b[0m \u001b[0;34m=\u001b[0m \u001b[0mtrn_data\u001b[0m\u001b[0;34m,\u001b[0m \u001b[0mtest\u001b[0m \u001b[0;34m=\u001b[0m \u001b[0mtst_data\u001b[0m\u001b[0;34m,\u001b[0m \u001b[0mtrain_label\u001b[0m \u001b[0;34m=\u001b[0m \u001b[0mY_train\u001b[0m\u001b[0;34m,\u001b[0m \u001b[0mmethod\u001b[0m \u001b[0;34m=\u001b[0m \u001b[0;34m'lda'\u001b[0m\u001b[0;34m,\u001b[0m \u001b[0mnumbercomponents\u001b[0m \u001b[0;34m=\u001b[0m \u001b[0;36m700\u001b[0m\u001b[0;34m)\u001b[0m\u001b[0;34m\u001b[0m\u001b[0m\n\u001b[0m\u001b[1;32m      7\u001b[0m     \u001b[0mmodel\u001b[0m \u001b[0;34m=\u001b[0m \u001b[0mclassify\u001b[0m\u001b[0;34m(\u001b[0m\u001b[0mtrn_data\u001b[0m\u001b[0;34m,\u001b[0m \u001b[0mY_train\u001b[0m\u001b[0;34m,\u001b[0m \u001b[0mnum_trees\u001b[0m \u001b[0;34m=\u001b[0m \u001b[0;36m300\u001b[0m\u001b[0;34m,\u001b[0m \u001b[0mmin_samples_split\u001b[0m \u001b[0;34m=\u001b[0m \u001b[0;36m5\u001b[0m\u001b[0;34m,\u001b[0m \u001b[0mmethod\u001b[0m \u001b[0;34m=\u001b[0m\u001b[0;34m'CART'\u001b[0m\u001b[0;34m)\u001b[0m\u001b[0;34m\u001b[0m\u001b[0m\n\u001b[1;32m      8\u001b[0m     \u001b[0moutput\u001b[0m \u001b[0;34m=\u001b[0m \u001b[0mtest\u001b[0m\u001b[0;34m(\u001b[0m\u001b[0mtest\u001b[0m \u001b[0;34m=\u001b[0m \u001b[0mtst_data\u001b[0m\u001b[0;34m,\u001b[0m \u001b[0mmodel\u001b[0m \u001b[0;34m=\u001b[0m \u001b[0mmodel\u001b[0m\u001b[0;34m,\u001b[0m \u001b[0mmethod\u001b[0m \u001b[0;34m=\u001b[0m \u001b[0;34m'CART'\u001b[0m\u001b[0;34m)\u001b[0m\u001b[0;34m\u001b[0m\u001b[0m\n",
      "\u001b[0;32m<ipython-input-4-36a7fb5ae100>\u001b[0m in \u001b[0;36mreduce_dim\u001b[0;34m(**kwargs)\u001b[0m\n\u001b[1;32m      8\u001b[0m         \u001b[0;32mreturn\u001b[0m \u001b[0mtrain_new\u001b[0m\u001b[0;34m,\u001b[0m \u001b[0mtest_new\u001b[0m\u001b[0;34m\u001b[0m\u001b[0m\n\u001b[1;32m      9\u001b[0m     \u001b[0;32melif\u001b[0m \u001b[0mkwargs\u001b[0m\u001b[0;34m[\u001b[0m\u001b[0;34m'method'\u001b[0m\u001b[0;34m]\u001b[0m \u001b[0;34m==\u001b[0m \u001b[0;34m'lda'\u001b[0m\u001b[0;34m:\u001b[0m\u001b[0;34m\u001b[0m\u001b[0m\n\u001b[0;32m---> 10\u001b[0;31m         \u001b[0mc\u001b[0m \u001b[0;34m=\u001b[0m \u001b[0mLinearDiscriminantAnalysis\u001b[0m\u001b[0;34m(\u001b[0m\u001b[0mnumbercomponents\u001b[0m \u001b[0;34m=\u001b[0m \u001b[0;36m600\u001b[0m\u001b[0;34m)\u001b[0m\u001b[0;34m\u001b[0m\u001b[0m\n\u001b[0m\u001b[1;32m     11\u001b[0m         \u001b[0mc\u001b[0m \u001b[0;34m=\u001b[0m \u001b[0mc\u001b[0m\u001b[0;34m.\u001b[0m\u001b[0mfit\u001b[0m\u001b[0;34m(\u001b[0m\u001b[0mkwargs\u001b[0m\u001b[0;34m[\u001b[0m\u001b[0;34m'train'\u001b[0m\u001b[0;34m]\u001b[0m\u001b[0;34m,\u001b[0m \u001b[0mkwargs\u001b[0m\u001b[0;34m[\u001b[0m\u001b[0;34m'train_label'\u001b[0m\u001b[0;34m]\u001b[0m\u001b[0;34m)\u001b[0m\u001b[0;34m\u001b[0m\u001b[0m\n\u001b[1;32m     12\u001b[0m         \u001b[0mtrain_new\u001b[0m \u001b[0;34m=\u001b[0m \u001b[0mc\u001b[0m\u001b[0;34m.\u001b[0m\u001b[0mtransform\u001b[0m\u001b[0;34m(\u001b[0m\u001b[0mkwargs\u001b[0m\u001b[0;34m[\u001b[0m\u001b[0;34m'train'\u001b[0m\u001b[0;34m]\u001b[0m\u001b[0;34m)\u001b[0m\u001b[0;34m\u001b[0m\u001b[0m\n",
      "\u001b[0;31mNameError\u001b[0m: name 'LinearDiscriminantAnalysis' is not defined"
     ]
    }
   ],
   "source": [
    "if __name__ == '__main__':\n",
    "    \n",
    "    find_pca_components()\n",
    "    find_min_samples_split()\n",
    "    find_n_estimators()\n",
    "    final_pca()\n",
    "    final_lda()\n",
    "    "
   ]
  }
 ],
 "metadata": {
  "kernelspec": {
   "display_name": "Python 3",
   "language": "python",
   "name": "python3"
  },
  "language_info": {
   "codemirror_mode": {
    "name": "ipython",
    "version": 3
   },
   "file_extension": ".py",
   "mimetype": "text/x-python",
   "name": "python",
   "nbconvert_exporter": "python",
   "pygments_lexer": "ipython3",
   "version": "3.5.2"
  }
 },
 "nbformat": 4,
 "nbformat_minor": 2
}
